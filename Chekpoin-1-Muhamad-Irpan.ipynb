{
  "nbformat": 4,
  "nbformat_minor": 0,
  "metadata": {
    "colab": {
      "provenance": []
    },
    "kernelspec": {
      "name": "python3",
      "display_name": "Python 3"
    },
    "language_info": {
      "name": "python"
    }
  },
  "cells": [
    {
      "cell_type": "code",
      "source": [],
      "metadata": {
        "id": "qwJov1FjPqJk"
      },
      "execution_count": null,
      "outputs": []
    },
    {
      "cell_type": "markdown",
      "source": [
        "# Project Understanding\n",
        "\n",
        "\n",
        "\n",
        "\n",
        "\n",
        "\n"
      ],
      "metadata": {
        "id": "7QGj-eG3Oo1Y"
      }
    },
    {
      "cell_type": "markdown",
      "source": [
        "## Project objective\n"
      ],
      "metadata": {
        "id": "vrnAsE3pPtxY"
      }
    },
    {
      "cell_type": "markdown",
      "source": [
        "Tujuan utama dari analisis dataset World Happiness Report 2024 adalah untuk memahami faktor-faktor yang memengaruhi tingkat kebahagiaan di berbagai negara serta mengidentifikasi perbedaan utama antara negara dengan skor kebahagiaan tertinggi dan terendah. Analisis ini bertujuan untuk memberikan wawasan tentang bagaimana faktor ekonomi, sosial, dan kesejahteraan berkontribusi terhadap kebahagiaan masyarakat serta bagaimana negara-negara dapat meningkatkan kualitas hidup warganya."
      ],
      "metadata": {
        "id": "1xDvehDfVBPA"
      }
    },
    {
      "cell_type": "markdown",
      "source": [
        "## Asses Situation\n"
      ],
      "metadata": {
        "id": "G8VZ1mh4Rn30"
      }
    },
    {
      "cell_type": "markdown",
      "source": [
        "Indeks kebahagiaan dunia mencerminkan kualitas hidup di berbagai negara, dipengaruhi oleh faktor ekonomi, sosial, dan kesejahteraan. Negara dengan ekonomi kuat, dukungan sosial baik, dan kebebasan individu cenderung lebih bahagia, sementara negara dengan korupsi tinggi dan akses terbatas ke layanan dasar sering kali memiliki skor lebih rendah.\n",
        "\n",
        "Meskipun terdapat kesenjangan, kebijakan berbasis data dapat membantu meningkatkan kesejahteraan masyarakat. Dengan menganalisis dataset ini, pemangku kepentingan dapat memahami faktor utama yang memengaruhi kebahagiaan dan merancang strategi untuk meningkatkan kualitas hidup secara global."
      ],
      "metadata": {
        "id": "PPhcWFNyU6_w"
      }
    },
    {
      "cell_type": "markdown",
      "source": [],
      "metadata": {
        "id": "sPqxYVbEhrGM"
      }
    },
    {
      "cell_type": "markdown",
      "source": [
        "## Data Mining Goals"
      ],
      "metadata": {
        "id": "KYwyibHSh1d5"
      }
    },
    {
      "cell_type": "markdown",
      "source": [
        "Analisis data ini bertujuan untuk memahami faktor-faktor yang memengaruhi kebahagiaan di berbagai negara, mengidentifikasi negara dengan skor tertinggi dan terendah, serta menganalisis perbedaan utama di antara mereka. Selain itu, analisis ini dapat membantu mengungkap tren global dan faktor utama yang berkontribusi terhadap kesejahteraan masyarakat. Dengan pendekatan berbasis data, hasilnya dapat memberikan wawasan berharga bagi pembuat kebijakan dan pemangku kepentingan dalam meningkatkan kualitas hidup secara global."
      ],
      "metadata": {
        "id": "-of4bF7nh6Rp"
      }
    },
    {
      "cell_type": "markdown",
      "source": [
        "## Project Plan"
      ],
      "metadata": {
        "id": "-sD5jkWUh_-v"
      }
    },
    {
      "cell_type": "markdown",
      "source": [
        "Project ini bertujuan untuk menganalisis tingkat kebahagiaan global, mengidentifikasi negara dengan skor tertinggi dan terendah, serta memahami faktor-faktor yang memengaruhi kebahagiaan. Prosesnya mencakup pengumpulan dan pembersihan data, eksplorasi tren historis, serta analisis hubungan antar variabel utama. Analisis ini akan menggunakan Python dan alat visualisasi seperti Tableau atau Power BI. Hasil akhirnya berupa laporan tren kebahagiaan global, wawasan mengenai faktor utama yang berkontribusi, serta rekomendasi strategis bagi pembuat kebijakan dan pemangku kepentingan."
      ],
      "metadata": {
        "id": "qARVkd1KiExE"
      }
    }
  ]
}
